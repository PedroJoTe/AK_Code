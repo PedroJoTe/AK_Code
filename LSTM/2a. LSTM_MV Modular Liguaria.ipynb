{
 "cells": [
  {
   "cell_type": "markdown",
   "metadata": {},
   "source": [
    "# Part 1 - Data Pre-processing"
   ]
  },
  {
   "cell_type": "code",
   "execution_count": 1,
   "metadata": {},
   "outputs": [
    {
     "name": "stdout",
     "output_type": "stream",
     "text": [
      "[array([0.63098592, 0.57464789, 0.54647887, 0.52394366, 0.49859155,\n",
      "       0.48450704, 0.48450704, 0.46478873, 0.45915493, 0.45633803,\n",
      "       0.48732394, 0.64788732, 0.82816901, 0.93521127, 0.98591549,\n",
      "       1.        , 0.98591549, 0.96619718, 0.95492958, 0.92676056,\n",
      "       0.86197183, 0.75492958, 0.65915493, 0.6028169 ])]\n",
      "[0.571830985915493]\n",
      "\n",
      "struktur X_train dan y_train: \n",
      "============================= \n",
      "(336, 24)\n",
      "(336,)\n"
     ]
    }
   ],
   "source": [
    "## file ini di kembangkan berdasarkan file RNN-Copy3-master\n",
    "\n",
    "# update terkahir 29 september 2020\n",
    "\n",
    "## referensi\n",
    "# https://keras.io/api/losses/\n",
    "# https://keras.io/api/optimizers/\n",
    "# https://keras.io/api/layers/recurrent_layers/lstm/\n",
    "\n",
    "import numpy as np\n",
    "import matplotlib.pyplot as plt\n",
    "import pandas as pd\n",
    "\n",
    "# Path to .csv file location\n",
    "dataset_train = pd.read_csv('../5.Liguaria/LiguFinal/hasil/hourly-liguria15.csv', sep=\",\")\n",
    "\n",
    "# setting hyperparameter n other parameters\n",
    "optimiz  = 'adam'                # RMSProp\n",
    "lossku   = 'mean_squared_error'  # 'mean_absolute_error'\n",
    "activaku = 'tanh'                # sigmoid\n",
    "ds_train = 360                   # train dataset selama 360 jam = 15 hari, 720 jam = 30 hari\n",
    "batchku  = 24                    # bactch, mengikuti timestamp\n",
    "epochku  = 100                   # epok\n",
    "\n",
    "\n",
    "# setting missing value proccess\n",
    "mvp = 2851  # 8341, titik awal missing value\n",
    "mvn = 8     #  jumlah missing value untuk di prediksi\n",
    "\n",
    "lfd = ds_train   \n",
    "jkj = batchku    # jumlah jam kolom\n",
    "training_set = dataset_train.iloc[mvp-lfd:mvp, 1:2].values\n",
    "\n",
    "# Feature Scaling\n",
    "from sklearn.preprocessing import MinMaxScaler\n",
    "sc = MinMaxScaler(feature_range = (0, 1))\n",
    "training_set_scaled = sc.fit_transform(training_set)\n",
    "\n",
    "# Creating a data structure with 72 timesteps and 1 output\n",
    "X_train = []\n",
    "y_train = []\n",
    "\n",
    "for i in range(jkj, lfd):  ## jadi geser sesuai panjang 72 dan 720\n",
    "    X_train.append(training_set_scaled[i-jkj:i, 0])\n",
    "    y_train.append(training_set_scaled[i, 0])\n",
    "    if i <= jkj:\n",
    "        print(X_train)\n",
    "        print(y_train)\n",
    "        print()\n",
    "print('struktur X_train dan y_train: ')\n",
    "print('============================= ')\n",
    "X_train, y_train = np.array(X_train), np.array(y_train)\n",
    "print(X_train.shape),print(y_train.shape)\n",
    "\n",
    "X_train = np.reshape(X_train, (X_train.shape[0], X_train.shape[1], 1))"
   ]
  },
  {
   "cell_type": "markdown",
   "metadata": {},
   "source": [
    "# Part 2 - Model"
   ]
  },
  {
   "cell_type": "code",
   "execution_count": 2,
   "metadata": {},
   "outputs": [
    {
     "name": "stderr",
     "output_type": "stream",
     "text": [
      "Using TensorFlow backend.\n"
     ]
    }
   ],
   "source": [
    "# Importing the Keras libraries and packages\n",
    "from keras.models import Sequential\n",
    "from keras.layers import Dense\n",
    "from keras.layers import LSTM\n",
    "from keras.layers import Dropout\n",
    "\n",
    "\n",
    "## susun struktur jaringan\n",
    "\n",
    "# Initialising the RNN\n",
    "regressor = Sequential()\n",
    "# Adding the first LSTM layer and some Dropout regularisation\n",
    "regressor.add(LSTM(units = 24, return_sequences = True, input_shape = (X_train.shape[1], 1)))\n",
    "regressor.add(Dropout(0.2))\n",
    "# Adding a second LSTM layer and some Dropout regularisation\n",
    "#regressor.add(LSTM(units = 24, return_sequences = True))\n",
    "#regressor.add(Dropout(0.2))\n",
    "# Adding a third LSTM layer and some Dropout regularisation\n",
    "#regressor.add(LSTM(units = 24, return_sequences = True))\n",
    "#regressor.add(Dropout(0.2))\n",
    "# Adding a fourth LSTM layer and some Dropout regularisation\n",
    "regressor.add(LSTM(units = 24))\n",
    "regressor.add(Dropout(0.2))\n",
    "\n",
    "# Adding the output layer\n",
    "regressor.add(Dense(units = 1, activation=activaku))"
   ]
  },
  {
   "cell_type": "code",
   "execution_count": 3,
   "metadata": {
    "scrolled": true
   },
   "outputs": [
    {
     "name": "stdout",
     "output_type": "stream",
     "text": [
      "Epoch 1/100\n",
      "336/336 [==============================] - 1s 4ms/step - loss: 0.1195\n",
      "Epoch 2/100\n",
      "336/336 [==============================] - 0s 1ms/step - loss: 0.0435\n",
      "Epoch 3/100\n",
      "336/336 [==============================] - 0s 1ms/step - loss: 0.0381\n",
      "Epoch 4/100\n",
      "336/336 [==============================] - 0s 878us/step - loss: 0.0367\n",
      "Epoch 5/100\n",
      "336/336 [==============================] - 0s 804us/step - loss: 0.0365\n",
      "Epoch 6/100\n",
      "336/336 [==============================] - 0s 837us/step - loss: 0.0353\n",
      "Epoch 7/100\n",
      "336/336 [==============================] - 0s 804us/step - loss: 0.0331\n",
      "Epoch 8/100\n",
      "336/336 [==============================] - 0s 797us/step - loss: 0.0325\n",
      "Epoch 9/100\n",
      "336/336 [==============================] - 0s 801us/step - loss: 0.0316\n",
      "Epoch 10/100\n",
      "336/336 [==============================] - 0s 813us/step - loss: 0.0294\n",
      "Epoch 11/100\n",
      "336/336 [==============================] - 0s 812us/step - loss: 0.0288\n",
      "Epoch 12/100\n",
      "336/336 [==============================] - 0s 794us/step - loss: 0.0255\n",
      "Epoch 13/100\n",
      "336/336 [==============================] - 0s 902us/step - loss: 0.0239\n",
      "Epoch 14/100\n",
      "336/336 [==============================] - 0s 926us/step - loss: 0.0212\n",
      "Epoch 15/100\n",
      "336/336 [==============================] - 0s 897us/step - loss: 0.0183\n",
      "Epoch 16/100\n",
      "336/336 [==============================] - 0s 925us/step - loss: 0.0167\n",
      "Epoch 17/100\n",
      "336/336 [==============================] - 0s 912us/step - loss: 0.0160\n",
      "Epoch 18/100\n",
      "336/336 [==============================] - 0s 927us/step - loss: 0.0156\n",
      "Epoch 19/100\n",
      "336/336 [==============================] - 0s 871us/step - loss: 0.0139\n",
      "Epoch 20/100\n",
      "336/336 [==============================] - 0s 836us/step - loss: 0.0141\n",
      "Epoch 21/100\n",
      "336/336 [==============================] - 0s 874us/step - loss: 0.0137\n",
      "Epoch 22/100\n",
      "336/336 [==============================] - 0s 878us/step - loss: 0.0136\n",
      "Epoch 23/100\n",
      "336/336 [==============================] - 0s 840us/step - loss: 0.0129\n",
      "Epoch 24/100\n",
      "336/336 [==============================] - 0s 885us/step - loss: 0.0136\n",
      "Epoch 25/100\n",
      "336/336 [==============================] - 0s 962us/step - loss: 0.0126\n",
      "Epoch 26/100\n",
      "336/336 [==============================] - 0s 1ms/step - loss: 0.0137\n",
      "Epoch 27/100\n",
      "336/336 [==============================] - 0s 948us/step - loss: 0.0124\n",
      "Epoch 28/100\n",
      "336/336 [==============================] - 0s 1ms/step - loss: 0.0118\n",
      "Epoch 29/100\n",
      "336/336 [==============================] - 0s 781us/step - loss: 0.0109\n",
      "Epoch 30/100\n",
      "336/336 [==============================] - 0s 1ms/step - loss: 0.0127\n",
      "Epoch 31/100\n",
      "336/336 [==============================] - 0s 1ms/step - loss: 0.0117\n",
      "Epoch 32/100\n",
      "336/336 [==============================] - 0s 999us/step - loss: 0.0110\n",
      "Epoch 33/100\n",
      "336/336 [==============================] - 0s 1ms/step - loss: 0.0106\n",
      "Epoch 34/100\n",
      "336/336 [==============================] - 0s 905us/step - loss: 0.0101\n",
      "Epoch 35/100\n",
      "336/336 [==============================] - 0s 916us/step - loss: 0.0122\n",
      "Epoch 36/100\n",
      "336/336 [==============================] - 0s 923us/step - loss: 0.0116\n",
      "Epoch 37/100\n",
      "336/336 [==============================] - 0s 957us/step - loss: 0.0116\n",
      "Epoch 38/100\n",
      "336/336 [==============================] - 0s 907us/step - loss: 0.0108\n",
      "Epoch 39/100\n",
      "336/336 [==============================] - 0s 843us/step - loss: 0.0105\n",
      "Epoch 40/100\n",
      "336/336 [==============================] - 0s 842us/step - loss: 0.0096\n",
      "Epoch 41/100\n",
      "336/336 [==============================] - 0s 891us/step - loss: 0.0115\n",
      "Epoch 42/100\n",
      "336/336 [==============================] - 0s 877us/step - loss: 0.0093\n",
      "Epoch 43/100\n",
      "336/336 [==============================] - 0s 921us/step - loss: 0.0096\n",
      "Epoch 44/100\n",
      "336/336 [==============================] - 0s 897us/step - loss: 0.0082\n",
      "Epoch 45/100\n",
      "336/336 [==============================] - 0s 897us/step - loss: 0.0099\n",
      "Epoch 46/100\n",
      "336/336 [==============================] - 0s 915us/step - loss: 0.0092\n",
      "Epoch 47/100\n",
      "336/336 [==============================] - 0s 1ms/step - loss: 0.0089\n",
      "Epoch 48/100\n",
      "336/336 [==============================] - 0s 1ms/step - loss: 0.0093\n",
      "Epoch 49/100\n",
      "336/336 [==============================] - 0s 927us/step - loss: 0.0095\n",
      "Epoch 50/100\n",
      "336/336 [==============================] - 0s 1ms/step - loss: 0.0094\n",
      "Epoch 51/100\n",
      "336/336 [==============================] - 0s 1ms/step - loss: 0.0087\n",
      "Epoch 52/100\n",
      "336/336 [==============================] - 0s 1ms/step - loss: 0.0082\n",
      "Epoch 53/100\n",
      "336/336 [==============================] - 0s 1ms/step - loss: 0.0084\n",
      "Epoch 54/100\n",
      "336/336 [==============================] - 0s 1ms/step - loss: 0.0077\n",
      "Epoch 55/100\n",
      "336/336 [==============================] - 0s 1ms/step - loss: 0.0096\n",
      "Epoch 56/100\n",
      "336/336 [==============================] - 0s 1ms/step - loss: 0.0084\n",
      "Epoch 57/100\n",
      "336/336 [==============================] - 0s 1ms/step - loss: 0.0081\n",
      "Epoch 58/100\n",
      "336/336 [==============================] - 0s 1ms/step - loss: 0.0085\n",
      "Epoch 59/100\n",
      "336/336 [==============================] - 0s 1ms/step - loss: 0.0086\n",
      "Epoch 60/100\n",
      "336/336 [==============================] - 0s 1ms/step - loss: 0.0086\n",
      "Epoch 61/100\n",
      "336/336 [==============================] - 0s 1ms/step - loss: 0.0076\n",
      "Epoch 62/100\n",
      "336/336 [==============================] - 0s 1ms/step - loss: 0.0083\n",
      "Epoch 63/100\n",
      "336/336 [==============================] - 0s 797us/step - loss: 0.0090\n",
      "Epoch 64/100\n",
      "336/336 [==============================] - 0s 793us/step - loss: 0.0083\n",
      "Epoch 65/100\n",
      "336/336 [==============================] - 0s 766us/step - loss: 0.0079\n",
      "Epoch 66/100\n",
      "336/336 [==============================] - 0s 781us/step - loss: 0.0075\n",
      "Epoch 67/100\n",
      "336/336 [==============================] - 0s 960us/step - loss: 0.0077\n",
      "Epoch 68/100\n",
      "336/336 [==============================] - 0s 1ms/step - loss: 0.0078\n",
      "Epoch 69/100\n",
      "336/336 [==============================] - 0s 1ms/step - loss: 0.0066\n",
      "Epoch 70/100\n",
      "336/336 [==============================] - 0s 756us/step - loss: 0.0075\n",
      "Epoch 71/100\n",
      "336/336 [==============================] - 0s 760us/step - loss: 0.0075\n",
      "Epoch 72/100\n",
      "336/336 [==============================] - 0s 732us/step - loss: 0.0070\n",
      "Epoch 73/100\n",
      "336/336 [==============================] - 0s 740us/step - loss: 0.0072\n",
      "Epoch 74/100\n",
      "336/336 [==============================] - 0s 731us/step - loss: 0.0085\n",
      "Epoch 75/100\n",
      "336/336 [==============================] - 0s 802us/step - loss: 0.0077\n",
      "Epoch 76/100\n",
      "336/336 [==============================] - 0s 735us/step - loss: 0.0075\n",
      "Epoch 77/100\n",
      "336/336 [==============================] - 0s 743us/step - loss: 0.0079\n",
      "Epoch 78/100\n",
      "336/336 [==============================] - 0s 741us/step - loss: 0.0075\n",
      "Epoch 79/100\n",
      "336/336 [==============================] - 0s 738us/step - loss: 0.0079\n",
      "Epoch 80/100\n",
      "336/336 [==============================] - 0s 740us/step - loss: 0.0070\n",
      "Epoch 81/100\n",
      "336/336 [==============================] - 0s 748us/step - loss: 0.0064\n",
      "Epoch 82/100\n",
      "336/336 [==============================] - 0s 737us/step - loss: 0.0070\n",
      "Epoch 83/100\n",
      "336/336 [==============================] - 0s 741us/step - loss: 0.0069\n",
      "Epoch 84/100\n",
      "336/336 [==============================] - 0s 751us/step - loss: 0.0071\n",
      "Epoch 85/100\n",
      "336/336 [==============================] - 0s 746us/step - loss: 0.0066\n",
      "Epoch 86/100\n",
      "336/336 [==============================] - 0s 777us/step - loss: 0.0063\n",
      "Epoch 87/100\n",
      "336/336 [==============================] - 0s 792us/step - loss: 0.0066\n",
      "Epoch 88/100\n",
      "336/336 [==============================] - 0s 749us/step - loss: 0.0062\n",
      "Epoch 89/100\n",
      "336/336 [==============================] - 0s 737us/step - loss: 0.0071\n",
      "Epoch 90/100\n",
      "336/336 [==============================] - 0s 743us/step - loss: 0.0058\n",
      "Epoch 91/100\n",
      "336/336 [==============================] - 0s 834us/step - loss: 0.0070\n",
      "Epoch 92/100\n",
      "336/336 [==============================] - 0s 750us/step - loss: 0.0074\n",
      "Epoch 93/100\n",
      "336/336 [==============================] - 0s 745us/step - loss: 0.0062\n",
      "Epoch 94/100\n",
      "336/336 [==============================] - 0s 879us/step - loss: 0.0071\n",
      "Epoch 95/100\n",
      "336/336 [==============================] - 0s 916us/step - loss: 0.0066\n",
      "Epoch 96/100\n",
      "336/336 [==============================] - 0s 825us/step - loss: 0.0059\n",
      "Epoch 97/100\n",
      "336/336 [==============================] - 0s 913us/step - loss: 0.0062\n",
      "Epoch 98/100\n"
     ]
    },
    {
     "name": "stdout",
     "output_type": "stream",
     "text": [
      "336/336 [==============================] - 0s 978us/step - loss: 0.0070\n",
      "Epoch 99/100\n",
      "336/336 [==============================] - 0s 824us/step - loss: 0.0062\n",
      "Epoch 100/100\n",
      "336/336 [==============================] - 0s 1ms/step - loss: 0.0058\n"
     ]
    }
   ],
   "source": [
    "# Pilih settingan \n",
    "regressor.compile(optimizer = optimiz, loss = lossku)\n",
    "\n",
    "# proses pembelajaran\n",
    "vb = regressor.fit(X_train, y_train, epochs = epochku, batch_size = batchku)"
   ]
  },
  {
   "cell_type": "code",
   "execution_count": null,
   "metadata": {
    "scrolled": true
   },
   "outputs": [],
   "source": [
    "#vb.history"
   ]
  },
  {
   "cell_type": "markdown",
   "metadata": {},
   "source": [
    "# Part 3 - mengisi missing value "
   ]
  },
  {
   "cell_type": "code",
   "execution_count": 4,
   "metadata": {
    "scrolled": false
   },
   "outputs": [
    {
     "name": "stdout",
     "output_type": "stream",
     "text": [
      "[ 7.05   7.15   8.2   10.8   13.    14.25  14.75  14.15  13.4   12.1\n",
      " 11.25  11.35  11.3   11.    10.5   10.2    9.442  9.155  8.893  8.708\n",
      "  8.619  8.645  8.787  9.041]\n",
      "\n"
     ]
    },
    {
     "data": {
      "image/png": "[encoded data removed]",
      "text/plain": [
       "<Figure size 432x288 with 1 Axes>"
      ]
     },
     "metadata": {
      "needs_background": "light"
     },
     "output_type": "display_data"
    }
   ],
   "source": [
    "## loop sepanjang missing value\n",
    "#mvn = 8 #  jumlah missing value untuk di prediksi\n",
    "\n",
    "inpr = dataset_train['temp'][mvp-jkj:mvp].values   # mvp adalah titik missing value pertama\n",
    "\n",
    "\n",
    "for i in range (mvn):\n",
    "    inp = inpr.reshape(-1,1)\n",
    "    inp = sc.transform(inp)\n",
    "    X1_test = np.array(np.transpose(inp))\n",
    "    X1_test = np.reshape(X1_test, (X1_test.shape[0], X1_test.shape[1], 1))\n",
    "    len(X1_test[0]), len(X1_test)\n",
    "\n",
    "    ## predict with model\n",
    "    predicted_temp1 = regressor.predict(X1_test)\n",
    "    ## rescale\n",
    "    predicted_temp1 = sc.inverse_transform(predicted_temp1)\n",
    "    ## insert new value to the end of array\n",
    "    inpb = np.append(inpr, float(\"{:.3f}\".format(predicted_temp1[0][0])))\n",
    "    ## trim first index, to fit 72 again\n",
    "    inpbb = np.delete(inpb, 0)\n",
    "    inpr = inpbb\n",
    "print(inpr)\n",
    "print()\n",
    "\n",
    "# Visualising the results\n",
    "#plt.plot(real_stock_price, color = 'red', label = 'Real Google Stock Price')\n",
    "plt.plot(inpr[-mvn:], color = 'blue', label = 'predicted_temp')\n",
    "plt.title('predicted_temp')\n",
    "plt.xlabel('Time')\n",
    "plt.ylabel('predicted_temp')\n",
    "plt.legend()\n",
    "plt.show()"
   ]
  },
  {
   "cell_type": "markdown",
   "metadata": {},
   "source": [
    "## Extract data hasil prediksi"
   ]
  },
  {
   "cell_type": "code",
   "execution_count": 5,
   "metadata": {},
   "outputs": [
    {
     "name": "stdout",
     "output_type": "stream",
     "text": [
      "[ 8.15        8.05        7.85        7.75        7.75        7.65\n",
      "  7.6         7.55        7.6         7.95        8.75        9.7\n",
      " 11.05       12.35       13.9        15.5        14.93242359 15.2765131\n",
      " 15.08038998 14.54202652 13.77995968 12.89466286 11.97967148 11.10066891]\n",
      "24\n"
     ]
    }
   ],
   "source": [
    "sh = mvn\n",
    "dsh= dataset_train['temp'][mvp-sh-jkj-24:mvp-24].values\n",
    "inpku = dsh[:jkj]\n",
    "\n",
    "for i in range (sh):\n",
    "    inprs = inpku.reshape(-1,1)\n",
    "    inprs = sc.transform(inprs)\n",
    "    X1s_test = np.array(np.transpose(inprs))\n",
    "    X1s_test = np.reshape(X1s_test, (X1s_test.shape[0], X1s_test.shape[1], 1))\n",
    "    len(X1s_test[0]), len(X1s_test)\n",
    "\n",
    "    ## predict with model\n",
    "    predicted_temp1s = regressor.predict(X1s_test)\n",
    "    ## rescale\n",
    "    predicted_temp1s = sc.inverse_transform(predicted_temp1s)\n",
    "    ## insert new value to the end of array\n",
    "    inpbs = np.append(inpku, predicted_temp1s[0][0])\n",
    "    ## trim first index, to fit 72 again\n",
    "    inpbbs = np.delete(inpbs, 0)\n",
    "    inpku = inpbbs\n",
    "print(inpbbs)\n",
    "print(len(inpbbs))"
   ]
  },
  {
   "cell_type": "code",
   "execution_count": 6,
   "metadata": {},
   "outputs": [
    {
     "name": "stdout",
     "output_type": "stream",
     "text": [
      "RMSE :  0.7317686287031148\n",
      "R**2 :  0.6657052614328444\n",
      "MAE :  0.6530579805374146\n"
     ]
    }
   ],
   "source": [
    "#https://www.datatechnotes.com/2019/10/accuracy-check-in-python-mae-mse-rmse-r.html\n",
    "\n",
    "def rmse(targets, predictions):\n",
    "    return np.sqrt(((targets - predictions) ** 2).mean())\n",
    "\n",
    "def mae(targets, predictions):\n",
    "    return ((abs(targets - predictions)).mean())\n",
    "\n",
    "def r2(Y, Y_pred):\n",
    "    mean_y = np.mean(Y)\n",
    "    ss_tot = sum((Y - mean_y) ** 2)\n",
    "    ss_res = sum((Y - Y_pred) ** 2)\n",
    "    r2 = 1 - (ss_res / ss_tot)\n",
    "    return r2\n",
    "\n",
    "prediksi = inpbbs[-sh:]\n",
    "target = dsh[-sh:]\n",
    "drmse = rmse(prediksi, target )\n",
    "dmae  = mae(prediksi, target )\n",
    "dr2   = r2(target, prediksi )\n",
    "\n",
    "\n",
    "print('RMSE : ', drmse)\n",
    "print('R**2 : ', dr2)\n",
    "print('MAE : ', dmae)\n",
    "\n",
    "# Append-adds at last \n",
    "file1 = open(\"rekap.txt\",\"a\")#append mode \n",
    "LL = \"{}, {}, {}, {}, {}, {}, {}, {}, {}, {} \\n\". format (optimiz, lossku, activaku, ds_train, batchku, epochku, drmse, dmae, dr2, inpr[-9:])\n",
    "file1.write(LL) \n",
    "file1.close() "
   ]
  },
  {
   "cell_type": "code",
   "execution_count": 7,
   "metadata": {},
   "outputs": [
    {
     "data": {
      "text/plain": [
       "array([14.93242359, 15.2765131 , 15.08038998, 14.54202652, 13.77995968,\n",
       "       12.89466286, 11.97967148, 11.10066891])"
      ]
     },
     "execution_count": 7,
     "metadata": {},
     "output_type": "execute_result"
    }
   ],
   "source": [
    "prediksi"
   ]
  },
  {
   "cell_type": "code",
   "execution_count": 8,
   "metadata": {},
   "outputs": [
    {
     "data": {
      "text/plain": [
       "array([15.95, 15.35, 14.6 , 14.85, 14.55, 13.8 , 13.05, 11.7 ])"
      ]
     },
     "execution_count": 8,
     "metadata": {},
     "output_type": "execute_result"
    }
   ],
   "source": [
    "target"
   ]
  },
  {
   "cell_type": "markdown",
   "metadata": {},
   "source": [
    "## 3 Visualisasi"
   ]
  },
  {
   "cell_type": "code",
   "execution_count": 9,
   "metadata": {},
   "outputs": [
    {
     "data": {
      "text/plain": [
       "<matplotlib.lines.Line2D at 0x14c1538d0>"
      ]
     },
     "execution_count": 9,
     "metadata": {},
     "output_type": "execute_result"
    },
    {
     "data": {
      "image/png": "[encoded data removed]",
      "text/plain": [
       "<Figure size 1080x360 with 1 Axes>"
      ]
     },
     "metadata": {
      "needs_background": "light"
     },
     "output_type": "display_data"
    }
   ],
   "source": [
    "import matplotlib.pyplot as plt\n",
    "%matplotlib inline\n",
    "\n",
    "rantang = 3 # rentang hari \n",
    "mulai = 1 # di mulai x hari sejak mvp\n",
    "#mvp = 2851\n",
    "yyp = inpr[-mvn:]\n",
    "\n",
    "#dataset_train['temp'][2851-1:2851+10]\n",
    "perjam = list()\n",
    "\n",
    "for i in range (0,8760):\n",
    "    dda = ( i, dataset_train['temp'][i])\n",
    "    dff = list(dda)\n",
    "    perjam.append(dff)\n",
    "\n",
    "\n",
    "plt.figure(figsize=(15,5))\n",
    "zz = []\n",
    "for i in range(0, 24*rantang):   \n",
    "    ss=perjam[mvp-(24*mulai)+i][1]       # undur 7 hari sebelum\n",
    "    xxx = perjam[(mvp-(24*21))+i][0]  # jika 0 maka indexnya, 1 nilainya\n",
    "    \n",
    "    zz.append(ss)\n",
    "    if (xxx%24 ==0):\n",
    "        plt.axvline(x=i, color = 'blue')\n",
    "#print(zz)\n",
    "\n",
    "## isi prediksi missing data\n",
    "ccc = list()\n",
    "zzp = zz.copy()\n",
    "k = 0\n",
    "for i in range (0,len(zzp)):\n",
    "    cc = pd.isnull(zzp)[i]\n",
    "    if (cc == True):\n",
    "        zzp[i]=yyp[k]\n",
    "        k += 1    \n",
    "\n",
    "plt.plot(zzp, color = 'red',linestyle='dashed' )\n",
    "plt.plot(zz, color = 'green')\n",
    "plt.axhline(y=10.2, color = 'grey')\n",
    "plt.axhline(y=8.1, color = 'grey')"
   ]
  },
  {
   "cell_type": "code",
   "execution_count": null,
   "metadata": {},
   "outputs": [],
   "source": []
  }
 ],
 "metadata": {
  "kernelspec": {
   "display_name": "Python 3",
   "language": "python",
   "name": "python3"
  },
  "language_info": {
   "codemirror_mode": {
    "name": "ipython",
    "version": 3
   },
   "file_extension": ".py",
   "mimetype": "text/x-python",
   "name": "python",
   "nbconvert_exporter": "python",
   "pygments_lexer": "ipython3",
   "version": "3.7.5"
  }
 },
 "nbformat": 4,
 "nbformat_minor": 4
}
